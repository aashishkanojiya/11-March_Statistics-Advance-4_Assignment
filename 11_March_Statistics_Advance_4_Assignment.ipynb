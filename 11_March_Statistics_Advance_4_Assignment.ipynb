{
  "nbformat": 4,
  "nbformat_minor": 0,
  "metadata": {
    "colab": {
      "provenance": []
    },
    "kernelspec": {
      "name": "python3",
      "display_name": "Python 3"
    },
    "language_info": {
      "name": "python"
    }
  },
  "cells": [
    {
      "cell_type": "code",
      "execution_count": null,
      "metadata": {
        "id": "QfXJ9jkLD5MF"
      },
      "outputs": [],
      "source": []
    },
    {
      "cell_type": "markdown",
      "source": [
        "Q1: What is the difference between a t-test and a z-test? Provide an example scenario where you would\n",
        "use each type of test."
      ],
      "metadata": {
        "id": "GHjDVplYD8kd"
      }
    },
    {
      "cell_type": "markdown",
      "source": [
        "Answer:-\n",
        "\n",
        "A t-test and a z-test are both statistical tests used to make inferences about population parameters based on sample data. However, there are some differences between the two tests, primarily related to the assumptions made about the population and the sample size.\n",
        "\n",
        "A z-test assumes that the sample comes from a normally distributed population, and the population standard deviation is known. This test is used when the sample size is large (typically, n > 30) and the population variance is known or can be assumed to be known. For example, if a company wants to test if the mean height of their employees is different from the national average, and they know the standard deviation of the population height, they can use a z-test.\n",
        "\n",
        "On the other hand, a t-test assumes that the sample comes from a normally distributed population, and the population standard deviation is unknown. This test is used when the sample size is small (typically, n < 30) or when the population variance is unknown. For example, if a researcher wants to test if a new drug has a different effect than a placebo, they can use a t-test to compare the mean scores of two groups of participants.\n",
        "\n",
        "Example scenarios:\n",
        "\n",
        "A company wants to compare the mean salary of their employees to the national average salary. They have a large sample size (n>30) and know the population standard deviation. They can use a z-test to make this comparison.\n",
        "\n",
        "A researcher wants to compare the mean test scores of two groups of students. They have a small sample size (n<30) and do not know the population standard deviation. They can use a t-test to make this comparison."
      ],
      "metadata": {
        "id": "DopcTDmjD9M0"
      }
    },
    {
      "cell_type": "markdown",
      "source": [
        "Q2: Differentiate between one-tailed and two-tailed tests."
      ],
      "metadata": {
        "id": "0-RE603yEk66"
      }
    },
    {
      "cell_type": "markdown",
      "source": [
        "Answer:-\n",
        "\n",
        "In hypothesis testing, the null hypothesis (H0) is a statement about a population parameter that is assumed to be true unless there is sufficient evidence to reject it in favor of an alternative hypothesis (Ha). The alternative hypothesis is the statement that the researcher is trying to support.\n",
        "\n",
        "One-tailed tests and two-tailed tests are types of hypothesis tests that differ in the directionality of the alternative hypothesis.\n",
        "\n",
        "A one-tailed test is a hypothesis test in which the alternative hypothesis specifies the direction of the effect or difference being tested. That is, the researcher is interested in whether the population parameter is either greater than or less than a certain value, but not both. Therefore, the rejection region for the null hypothesis is only on one side of the distribution. A one-tailed test is often used when the researcher has a specific directional hypothesis or when there is a theoretical or practical reason to expect an effect in a specific direction.\n",
        "\n",
        "For example, a one-tailed test might be used to test the hypothesis that a new medication will decrease the amount of time it takes for patients to fall asleep. The alternative hypothesis would be that the medication decreases the amount of time it takes for patients to fall asleep, and the null hypothesis would be that the medication has no effect on the amount of time it takes for patients to fall asleep.\n",
        "\n",
        "In contrast, a two-tailed test is a hypothesis test in which the alternative hypothesis does not specify the direction of the effect or difference being tested. That is, the researcher is interested in whether the population parameter is different from a certain value in any direction. Therefore, the rejection region for the null hypothesis is split between both sides of the distribution. A two-tailed test is often used when the researcher has no specific directional hypothesis or when there is no theoretical or practical reason to expect an effect in a specific direction.\n",
        "\n",
        "For example, a two-tailed test might be used to test the hypothesis that the mean weight of male and female newborns is the same. The alternative hypothesis would be that the mean weight of male and female newborns is different, and the null hypothesis would be that the mean weight of male and female newborns is equal.\n",
        "\n",
        "In summary, one-tailed tests and two-tailed tests differ in the directionality of the alternative hypothesis, and the choice between the two depends on the research question and the directional nature of the hypothesis."
      ],
      "metadata": {
        "id": "uIHidJj5Ep6J"
      }
    },
    {
      "cell_type": "markdown",
      "source": [
        "Q3: Explain the concept of Type 1 and Type 2 errors in hypothesis testing. Provide an example scenario for\n",
        "each type of error."
      ],
      "metadata": {
        "id": "Z6Afb9KxFCaL"
      }
    },
    {
      "cell_type": "markdown",
      "source": [
        "Answer:-\n",
        "\n",
        "In hypothesis testing, there are two types of errors that can occur: Type I error and Type II error.\n",
        "\n",
        "Type I error occurs when the null hypothesis is rejected even though it is actually true. This means that the researcher concludes that there is a significant effect or difference between two groups when in reality there is not. The probability of making a Type I error is denoted as alpha (α) and is set by the researcher prior to conducting the test. A smaller alpha level means a lower probability of making a Type I error.\n",
        "\n",
        "Type II error, on the other hand, occurs when the null hypothesis is not rejected even though it is actually false. This means that the researcher concludes that there is no significant effect or difference between two groups when in reality there is. The probability of making a Type II error is denoted as beta (β). The probability of making a Type II error depends on several factors such as the sample size, effect size, and the alpha level.\n",
        "\n",
        "Here are example scenarios for each type of error:\n",
        "\n",
        "Type I error: Suppose a company produces a batch of 10,000 pens and claims that the average weight of each pen is 5 grams. A researcher randomly selects a sample of 50 pens and finds that the average weight is 5.2 grams with a standard deviation of 0.5 grams. The researcher conducts a hypothesis test with a significance level of 0.05 and concludes that the average weight of the pens is significantly greater than 5 grams. However, in reality, the average weight of the pens is actually 5 grams, and the researcher has made a Type I error by rejecting the null hypothesis.\n",
        "\n",
        "Type II error: Consider a clinical trial testing the effectiveness of a new drug for treating a certain disease. The null hypothesis is that the drug has no effect on the disease, while the alternative hypothesis is that the drug does have an effect. If the clinical trial fails to reject the null hypothesis, it could be due to the drug having no effect, or it could be due to a Type II error, where the drug actually does have an effect but it was not detected in the study. In this scenario, a Type II error would occur if the new drug is effective, but the clinical trial fails to detect its effectiveness due to a small sample size or other limitations of the study.\n",
        "\n"
      ],
      "metadata": {
        "id": "XYg-tifeFC6V"
      }
    },
    {
      "cell_type": "markdown",
      "source": [
        "Q4: Explain Bayes's theorem with an example."
      ],
      "metadata": {
        "id": "600GdFYDGDAB"
      }
    },
    {
      "cell_type": "markdown",
      "source": [
        "Answer:-\n",
        "\n",
        "Bayes's theorem is a mathematical formula used to calculate the conditional probability of an event based on prior knowledge of related events. It is named after Thomas Bayes, an 18th-century statistician, and philosopher.\n",
        "\n",
        "Bayes's theorem can be expressed as follows:\n",
        "\n",
        "P(A|B) = P(B|A) * P(A) / P(B)\n",
        "\n",
        "where P(A|B) is the probability of event A given event B has occurred, P(B|A) is the probability of event B given that event A has occurred, P(A) is the prior probability of event A, and P(B) is the prior probability of event B.\n",
        "\n",
        "An example scenario where Bayes's theorem can be applied is in medical diagnosis. Suppose a patient exhibits certain symptoms that may indicate the presence of a disease. The probability of having the disease given the symptoms can be calculated using Bayes's theorem.\n",
        "\n",
        "Let's say that the disease is present in 1% of the population, and the probability of a person exhibiting the symptoms given that they have the disease is 90%. On the other hand, the probability of a person exhibiting the symptoms without having the disease is 10%. Using this information, we can apply Bayes's theorem to calculate the probability of a person having the disease given that they exhibit the symptoms.\n",
        "\n",
        "P(Disease|Symptoms) = P(Symptoms|Disease) * P(Disease) / P(Symptoms)\n",
        "\n",
        "where P(Disease|Symptoms) is the probability of having the disease given the symptoms, P(Symptoms|Disease) is the probability of exhibiting the symptoms given the disease, P(Disease) is the prior probability of having the disease, and P(Symptoms) is the prior probability of exhibiting the symptoms.\n",
        "\n",
        "Plugging in the values, we get:\n",
        "\n",
        "P(Disease|Symptoms) = 0.90 * 0.01 / ((0.90 * 0.01) + (0.10 * 0.99))\n",
        "\n",
        "= 0.08\n",
        "\n",
        "Therefore, the probability of having the disease given the symptoms is 8%. This means that even though the patient exhibits the symptoms, there is still only an 8% chance of having the disease."
      ],
      "metadata": {
        "id": "JImec8QpGNk6"
      }
    },
    {
      "cell_type": "markdown",
      "source": [
        "Q5: What is a confidence interval? How to calculate the confidence interval, explain with an example."
      ],
      "metadata": {
        "id": "JMkfpwPEG0gS"
      }
    },
    {
      "cell_type": "markdown",
      "source": [
        "Answer:-\n",
        "\n",
        "A confidence interval is a range of values that is likely to contain the true value of a population parameter with a certain degree of confidence. In other words, it is a range of values around a sample statistic that is likely to contain the true population parameter value with a certain level of certainty or probability.\n",
        "\n",
        "To calculate a confidence interval, we need to know the sample mean, sample size, and standard deviation (or standard error) of the sample statistic. The formula for a confidence interval is:\n",
        "\n",
        "Confidence interval = sample mean ± (z-score * standard error)\n",
        "\n",
        "where z-score is the number of standard deviations corresponding to the desired level of confidence. For example, for a 95% confidence interval, the z-score would be 1.96.\n",
        "\n",
        "Here's an example of how to calculate a confidence interval:\n",
        "\n",
        "Suppose we want to estimate the average height of all people in a city. We take a random sample of 50 people and find that the sample mean height is 170 cm, and the sample standard deviation is 5 cm.\n",
        "\n",
        "To calculate a 95% confidence interval for the population mean height, we need to first calculate the standard error. The standard error is calculated as:\n",
        "\n",
        "Standard error = sample standard deviation / sqrt(sample size)\n",
        "\n",
        "= 5 / sqrt(50)\n",
        "\n",
        "= 0.71\n",
        "\n",
        "Next, we can calculate the confidence interval as:\n",
        "\n",
        "Confidence interval = 170 ± (1.96 * 0.71)\n",
        "\n",
        "= 168.6 to 171.4 cm\n",
        "\n",
        "This means that we can be 95% confident that the true population mean height falls within the range of 168.6 to 171.4 cm. We can interpret this as if we repeat this sampling process many times, 95% of the time, the true population mean height will be contained within this interval."
      ],
      "metadata": {
        "id": "nNrnkznLG4CJ"
      }
    },
    {
      "cell_type": "markdown",
      "source": [
        "Q6. Use Bayes' Theorem to calculate the probability of an event occurring given prior knowledge of the\n",
        "event's probability and new evidence. Provide a sample problem and solution."
      ],
      "metadata": {
        "id": "PpWHwwbwH5E4"
      }
    },
    {
      "cell_type": "markdown",
      "source": [
        "Answer:-\n",
        "\n",
        "here's an example problem that uses Bayes' theorem:\n",
        "\n",
        "Suppose a new medical test has been developed to detect a certain disease, which affects 1% of the population. The test has a false positive rate of 5%, meaning that 5% of the time, a healthy person will test positive for the disease. The test also has a false negative rate of 10%, meaning that 10% of the time, a person with the disease will test negative. Suppose a person takes the test and receives a positive result. What is the probability that the person actually has the disease?\n",
        "\n",
        "Let's define some terms first:\n",
        "\n",
        "A: the event that the person has the disease B: the event that the person tests positive for the disease We want to find P(A|B), the probability that the person has the disease given a positive test result. We can use Bayes' theorem to calculate this as follows:\n",
        "\n",
        "P(A|B) = P(B|A) * P(A) / P(B)\n",
        "\n",
        "where P(B|A) is the probability of testing positive given that the person has the disease, P(A) is the prior probability of the person having the disease, and P(B) is the probability of testing positive for the disease.\n",
        "\n",
        "Using the information given in the problem, we can calculate these probabilities as follows:\n",
        "\n",
        "P(B|A) = 1 - 0.10 = 0.90 (the probability of testing positive given that the person has the disease is 90%) P(A) = 0.01 (the prior probability of the person having the disease is 1%) P(B) = P(B|A) * P(A) + P(B|not A) * P(not A) = 0.90 * 0.01 + 0.05 * 0.99 (the probability of testing positive is the sum of the probability of a true positive and a false positive) Plugging these values into the Bayes' theorem formula, we get:\n",
        "\n",
        "P(A|B) = 0.90 * 0.01 / (0.90 * 0.01 + 0.05 * 0.99)\n",
        "\n",
        "= 0.15\n",
        "\n",
        "Therefore, the probability that the person actually has the disease given a positive test result is 15%. This means that the test is not very accurate, and there is still a high chance of a false positive result."
      ],
      "metadata": {
        "id": "1YDhcOrCKonR"
      }
    },
    {
      "cell_type": "markdown",
      "source": [
        "Q7. Calculate the 95% confidence interval for a sample of data with a mean of 50 and a standard deviation\n",
        "of 5. Interpret the results."
      ],
      "metadata": {
        "id": "Dw9gecOqNaIP"
      }
    },
    {
      "cell_type": "markdown",
      "source": [
        "Answer:-\n",
        "\n",
        "Sample Size is not provided in above Question , I am assuming sample size of 60"
      ],
      "metadata": {
        "id": "ROjt2IEkNamm"
      }
    },
    {
      "cell_type": "code",
      "source": [
        "import math\n",
        "import scipy.stats as stats\n",
        "\n",
        "# Define the sample mean, standard deviation, and sample size\n",
        "sample_mean = 50\n",
        "sample_std_dev = 5\n",
        "sample_size = 60\n",
        "\n",
        "# Signficance Level\n",
        "alpha = 0.05\n",
        "\n",
        "# Calculate the critical value for a 95% confidence interval\n",
        "t_crit = stats.t.ppf(1-alpha/2, df=sample_size-1)\n",
        "print(f't statistic for significance level {alpha} , sample size of {sample_size} is : {t_crit:.2f}')\n",
        "\n",
        "# Calculate the standard error\n",
        "std_error = sample_std_dev / math.sqrt(sample_size)\n",
        "\n",
        "# Calculate the lower and upper bounds of the confidence interval\n",
        "lower_bound = sample_mean - t_crit * std_error\n",
        "upper_bound = sample_mean + t_crit * std_error\n",
        "\n",
        "# Print the results\n",
        "print(f\"The 95% confidence interval is ({lower_bound:.2f}, {upper_bound:.2f})\")"
      ],
      "metadata": {
        "colab": {
          "base_uri": "https://localhost:8080/"
        },
        "id": "my9A58AqNMxs",
        "outputId": "9a10efbd-cc16-4e7f-8b27-83fe447605da"
      },
      "execution_count": 3,
      "outputs": [
        {
          "output_type": "stream",
          "name": "stdout",
          "text": [
            "t statistic for significance level 0.05 , sample size of 60 is : 2.00\n",
            "The 95% confidence interval is (48.71, 51.29)\n"
          ]
        }
      ]
    },
    {
      "cell_type": "markdown",
      "source": [
        "Q8. What is the margin of error in a confidence interval? How does sample size affect the margin of error?\n",
        "Provide an example of a scenario where a larger sample size would result in a smaller margin of error."
      ],
      "metadata": {
        "id": "BZTji-1SPFTp"
      }
    },
    {
      "cell_type": "markdown",
      "source": [
        "Answer:-\n",
        "\n",
        "The margin of error in a confidence interval is the range of values around the sample estimate that we are confident contains the true population value. It represents the amount of uncertainty in our estimate due to sampling error.\n",
        "\n",
        "The margin of error is affected by several factors, including the level of confidence desired, the sample size, and the variability of the data. In general, a larger sample size results in a smaller margin of error, all else being equal. This is because a larger sample size reduces the effect of random sampling error, and thus increases the precision of the estimate.\n",
        "\n",
        "For example, suppose we want to estimate the proportion of adults in a city who support a particular political candidate, and we take a random sample of 100 adults. The sample proportion is 0.6, which means that 60% of the sample supports the candidate. We want to construct a 95% confidence interval for the true population proportion.\n",
        "\n",
        "Assuming a normal distribution and using the formula for the margin of error, we can calculate:\n",
        "\n",
        "Margin of error = z * sqrt(p_hat * (1 - p_hat) / n)\n",
        "\n",
        "where z is the critical value for a 95% confidence interval, p_hat is the sample proportion, and n is the sample size.\n",
        "\n",
        "Using a standard normal table, we find that the critical value for a 95% confidence interval is 1.96. Plugging in the values, we get:\n",
        "\n",
        "Margin of error = 1.96 * sqrt(0.6 * 0.4 / 100)\n",
        "\n",
        "= 0.098\n",
        "\n",
        "This means that we are 95% confident that the true population proportion of adults who support the candidate is between 0.502 and 0.698 (0.6 ± 0.098).\n",
        "\n",
        "Now, suppose we increase the sample size to 400. Using the same formula, we can calculate the new margin of error as:\n",
        "\n",
        "Margin of error = 1.96 * sqrt(0.6 * 0.4 / 400)\n",
        "\n",
        "= 0.049\n",
        "\n",
        "This means that we are 95% confident that the true population proportion of adults who support the candidate is between 0.551 and 0.649 (0.6 ± 0.049).\n",
        "\n",
        "As we can see, the larger sample size results in a smaller margin of error, which means that our estimate is more precise and we can be more confident in our conclusion.\n",
        "\n"
      ],
      "metadata": {
        "id": "p0J6C21_PGRf"
      }
    },
    {
      "cell_type": "markdown",
      "source": [
        "Q9. Calculate the z-score for a data point with a value of 75, a population mean of 70, and a population\n",
        "standard deviation of 5. Interpret the results."
      ],
      "metadata": {
        "id": "Vq3AY3fAPFQ5"
      }
    },
    {
      "cell_type": "markdown",
      "source": [
        "Answer:-\n",
        "\n",
        "Below is my python code to calculate above Z Score"
      ],
      "metadata": {
        "id": "XVhWO0RMPmZh"
      }
    },
    {
      "cell_type": "code",
      "source": [
        "# Given data\n",
        "data_point = 75\n",
        "population_mean = 70\n",
        "population_std_dev = 5\n",
        "\n",
        "# Calculate the z-score\n",
        "z_score = (data_point - population_mean) / population_std_dev\n",
        "\n",
        "# Print the result\n",
        "print(f\"The z-score is: {z_score}\")"
      ],
      "metadata": {
        "colab": {
          "base_uri": "https://localhost:8080/"
        },
        "id": "RWBXJgKnOv8r",
        "outputId": "474ffb5d-9ac7-4c15-8cdf-509f60126c04"
      },
      "execution_count": 5,
      "outputs": [
        {
          "output_type": "stream",
          "name": "stdout",
          "text": [
            "The z-score is: 1.0\n"
          ]
        }
      ]
    },
    {
      "cell_type": "markdown",
      "source": [
        "This means that the data point is 1 standard deviation above the population mean. A positive z-score indicates that the data point is above the mean, while a negative z-score indicates that it is below the mean. The magnitude of the z-score tells us how far away the data point is from the mean in terms of standard deviations."
      ],
      "metadata": {
        "id": "W2DtecHNQJSN"
      }
    },
    {
      "cell_type": "code",
      "source": [
        "from scipy.stats import norm\n",
        "\n",
        "# Calculate the percentage of values below a z-score of 1\n",
        "percent_below = norm.cdf(z) * 100\n",
        "\n",
        "print(f\"The percentage of values below a z-score of 1 is: {percent_below:.2f}%\")"
      ],
      "metadata": {
        "colab": {
          "base_uri": "https://localhost:8080/"
        },
        "id": "b7dyQtv0QmzL",
        "outputId": "c814cbca-aa14-4dd4-befb-0c880d42ebef"
      },
      "execution_count": 6,
      "outputs": [
        {
          "output_type": "stream",
          "name": "stdout",
          "text": [
            "The percentage of values below a z-score of 1 is: 84.13%\n"
          ]
        }
      ]
    },
    {
      "cell_type": "markdown",
      "source": [
        "A z-score of 1 corresponds to approximately 84.13% of values being below this value in a standard normal distribution."
      ],
      "metadata": {
        "id": "7CbU7ogOQqoV"
      }
    },
    {
      "cell_type": "markdown",
      "source": [
        "Q10. In a study of the effectiveness of a new weight loss drug, a sample of 50 participants lost an average\n",
        "of 6 pounds with a standard deviation of 2.5 pounds. Conduct a hypothesis test to determine if the drug is\n",
        "significantly effective at a 95% confidence level using a t-test."
      ],
      "metadata": {
        "id": "tVyDKT7vQrTH"
      }
    },
    {
      "cell_type": "markdown",
      "source": [
        "Answer:-\n",
        "\n"
      ],
      "metadata": {
        "id": "bvPrnhR9QyXF"
      }
    },
    {
      "cell_type": "code",
      "source": [
        "import numpy as np\n",
        "from scipy.stats import t\n",
        "\n",
        "# Given data\n",
        "sample_mean = 6  # average weight loss\n",
        "sample_std_dev = 2.5  # standard deviation of weight loss\n",
        "sample_size = 50  # number of participants\n",
        "population_mean = 0  # mean weight loss under null hypothesis\n",
        "\n",
        "# Calculate the t-statistic\n",
        "t_statistic = (sample_mean - population_mean) / (sample_std_dev / (sample_size ** 0.5))\n",
        "\n",
        "# Calculate the degrees of freedom\n",
        "df = sample_size - 1\n",
        "\n",
        "# Calculate the critical t-value for a one-tailed test at 95% confidence level\n",
        "alpha = 0.05\n",
        "critical_t_value = stats.t.ppf(1 - alpha, df)\n",
        "\n",
        "# Calculate the p-value\n",
        "p_value = 1 - stats.t.cdf(t_statistic, df)\n",
        "\n",
        "# Print the results\n",
        "print(f\"t-Statistic: {t_statistic:.2f}\")\n",
        "print(f\"Critical t-Value: {critical_t_value:.2f}\")\n",
        "print(f\"P-Value: {p_value:.4f}\")\n",
        "\n",
        "# Decision rule\n",
        "if t_statistic > critical_t_value:\n",
        "    print(\"Reject the null hypothesis: The drug is significantly effective.\")\n",
        "else:\n",
        "    print(\"Fail to reject the null hypothesis: The drug is not significantly effective.\")\n"
      ],
      "metadata": {
        "colab": {
          "base_uri": "https://localhost:8080/"
        },
        "id": "e1P0qqjvRE8B",
        "outputId": "f141e308-eecd-4f5f-c941-8a79bc84ee9f"
      },
      "execution_count": 7,
      "outputs": [
        {
          "output_type": "stream",
          "name": "stdout",
          "text": [
            "t-Statistic: 16.97\n",
            "Critical t-Value: 1.68\n",
            "P-Value: 0.0000\n",
            "Reject the null hypothesis: The drug is significantly effective.\n"
          ]
        }
      ]
    },
    {
      "cell_type": "markdown",
      "source": [
        "Q11. In a survey of 500 people, 65% reported being satisfied with their current job. Calculate the 95%\n",
        "confidence interval for the true proportion of people who are satisfied with their job."
      ],
      "metadata": {
        "id": "LSUsZJ7gTHkd"
      }
    },
    {
      "cell_type": "markdown",
      "source": [
        "Answer:-\n"
      ],
      "metadata": {
        "id": "MV1BOG6hTIMs"
      }
    },
    {
      "cell_type": "code",
      "source": [
        "import math\n",
        "\n",
        "p = 0.65  # sample proportion\n",
        "n = 500  # sample size\n",
        "z_alpha = 1.96  # z-score for 95% confidence level\n",
        "\n",
        "# Calculate the standard error\n",
        "se = math.sqrt((p * (1 - p)) / n)\n",
        "\n",
        "# Calculate the margin of error\n",
        "me = z_alpha * se\n",
        "\n",
        "# Calculate the confidence interval\n",
        "lower_bound = p - me\n",
        "upper_bound = p + me\n",
        "\n",
        "# Print the results\n",
        "print(f\"The 95% confidence interval for the proportion of people who are satisfied with their job is ({lower_bound*100:.2f}%, {upper_bound*100:.2f}%)\")\n"
      ],
      "metadata": {
        "colab": {
          "base_uri": "https://localhost:8080/"
        },
        "id": "o5MrkC8NRLTD",
        "outputId": "3aad51ce-6eec-4345-e502-ca319d8192cb"
      },
      "execution_count": 8,
      "outputs": [
        {
          "output_type": "stream",
          "name": "stdout",
          "text": [
            "The 95% confidence interval for the proportion of people who are satisfied with their job is (60.82%, 69.18%)\n"
          ]
        }
      ]
    },
    {
      "cell_type": "markdown",
      "source": [
        "Q12. A researcher is testing the effectiveness of two different teaching methods on student performance.\n",
        "Sample A has a mean score of 85 with a standard deviation of 6, while sample B has a mean score of 82\n",
        "with a standard deviation of 5. Conduct a hypothesis test to determine if the two teaching methods have a\n",
        "significant difference in student performance using a t-test with a significance level of 0.01."
      ],
      "metadata": {
        "id": "3ODx9apVUiKu"
      }
    },
    {
      "cell_type": "markdown",
      "source": [
        "Answer:-"
      ],
      "metadata": {
        "id": "2BEkcrfgUiq-"
      }
    },
    {
      "cell_type": "code",
      "source": [
        "import math\n",
        "from scipy import stats\n",
        "\n",
        "# Given data for Sample A\n",
        "mean_A = 85\n",
        "std_dev_A = 6\n",
        "n_A = 30\n",
        "\n",
        "# Given data for Sample B\n",
        "mean_B = 82\n",
        "std_dev_B = 5\n",
        "n_B = 30\n",
        "\n",
        "# Calculate the t-statistic\n",
        "pooled_std_error = math.sqrt((std_dev_A**2 / n_A) + (std_dev_B**2 / n_B))\n",
        "t_statistic = (mean_A - mean_B) / pooled_std_error\n",
        "\n",
        "# Calculate the degrees of freedom\n",
        "numerator = ((std_dev_A**2 / n_A) + (std_dev_B**2 / n_B))**2\n",
        "denominator = ((std_dev_A**2 / n_A)**2 / (n_A - 1)) + ((std_dev_B**2 / n_B)**2 / (n_B - 1))\n",
        "degrees_of_freedom = numerator / denominator\n",
        "\n",
        "# Calculate the critical t-value for a two-tailed test at 0.01 significance level\n",
        "alpha = 0.01\n",
        "critical_t_value = stats.t.ppf(1 - alpha/2, degrees_of_freedom)\n",
        "\n",
        "# Calculate the p-value\n",
        "p_value = 2 * (1 - stats.t.cdf(abs(t_statistic), degrees_of_freedom))\n",
        "\n",
        "# Print the results\n",
        "print(f\"t-Statistic: {t_statistic:.4f}\")\n",
        "print(f\"Degrees of Freedom: {degrees_of_freedom:.4f}\")\n",
        "print(f\"Critical t-Value: {critical_t_value:.4f}\")\n",
        "print(f\"P-Value: {p_value:.4f}\")\n",
        "\n",
        "# Decision rule\n",
        "if p_value < alpha:\n",
        "    print(\"Reject the null hypothesis: The two teaching methods have a significant difference in student performance.\")\n",
        "else:\n",
        "    print(\"Fail to reject the null hypothesis: The two teaching methods do not have a significant difference in student performance.\")\n"
      ],
      "metadata": {
        "colab": {
          "base_uri": "https://localhost:8080/"
        },
        "id": "oU8dFtI8VS60",
        "outputId": "f1ace820-37a0-4f47-85b1-c808fb47863b"
      },
      "execution_count": 9,
      "outputs": [
        {
          "output_type": "stream",
          "name": "stdout",
          "text": [
            "t-Statistic: 2.1039\n",
            "Degrees of Freedom: 56.1733\n",
            "Critical t-Value: 2.6662\n",
            "P-Value: 0.0399\n",
            "Fail to reject the null hypothesis: The two teaching methods do not have a significant difference in student performance.\n"
          ]
        }
      ]
    },
    {
      "cell_type": "markdown",
      "source": [
        "Q13. A population has a mean of 60 and a standard deviation of 8. A sample of 50 observations has a mean\n",
        "of 65. Calculate the 90% confidence interval for the true population mean."
      ],
      "metadata": {
        "id": "-OASB8C4Va6L"
      }
    },
    {
      "cell_type": "markdown",
      "source": [
        "Answer:-\n"
      ],
      "metadata": {
        "id": "2ZouzJMFVg0i"
      }
    },
    {
      "cell_type": "code",
      "source": [
        "import math\n",
        "from scipy.stats import t\n",
        "\n",
        "pop_mean = 60\n",
        "pop_std = 8\n",
        "n = 50\n",
        "sample_mean = 65\n",
        "confidence_level = 0.90\n",
        "\n",
        "# Calculate the t-score\n",
        "t_score = (sample_mean - pop_mean) / (pop_std / math.sqrt(n))\n",
        "\n",
        "# Find the critical t-value\n",
        "df = n - 1\n",
        "t_crit = t.ppf((1+confidence_level)/2, df)\n",
        "print(f't statistic for {n} samples with {confidence_level*100:.0f}% confidence is : {t_crit:.4f}')\n",
        "\n",
        "# Calculate the margin of error\n",
        "margin_of_error = t_crit * (pop_std / math.sqrt(n))\n",
        "\n",
        "# Calculate the confidence interval\n",
        "lower_bound = sample_mean - margin_of_error\n",
        "upper_bound = sample_mean + margin_of_error\n",
        "\n",
        "# Print the results\n",
        "print(f\"The {confidence_level*100:.0f}% confidence interval for the true population mean is ({lower_bound:.3f}, {upper_bound:.3f})\")\n"
      ],
      "metadata": {
        "colab": {
          "base_uri": "https://localhost:8080/"
        },
        "id": "_PinIbMnVToX",
        "outputId": "a40b0ef3-5e43-4f35-8e48-e2633b6855be"
      },
      "execution_count": 10,
      "outputs": [
        {
          "output_type": "stream",
          "name": "stdout",
          "text": [
            "t statistic for 50 samples with 90% confidence is : 1.6766\n",
            "The 90% confidence interval for the true population mean is (63.103, 66.897)\n"
          ]
        }
      ]
    },
    {
      "cell_type": "markdown",
      "source": [
        "Q14. In a study of the effects of caffeine on reaction time, a sample of 30 participants had an average\n",
        "reaction time of 0.25 seconds with a standard deviation of 0.05 seconds. Conduct a hypothesis test to\n",
        "determine if the caffeine has a significant effect on reaction time at a 90% confidence level using a t-test."
      ],
      "metadata": {
        "id": "Wr3USpZtVyVF"
      }
    },
    {
      "cell_type": "markdown",
      "source": [
        "Answer:-"
      ],
      "metadata": {
        "id": "OZgQjw4yVy2d"
      }
    },
    {
      "cell_type": "code",
      "source": [
        "import math\n",
        "from scipy import stats\n",
        "\n",
        "# Given data\n",
        "sample_mean = 0.25\n",
        "sample_std_dev = 0.05\n",
        "sample_size = 30\n",
        "baseline_mean = 0.30\n",
        "confidence_level = 0.90\n",
        "\n",
        "# Calculate the t-statistic\n",
        "t_statistic = (sample_mean - baseline_mean) / (sample_std_dev / math.sqrt(sample_size))\n",
        "\n",
        "# Calculate the degrees of freedom\n",
        "df = sample_size - 1\n",
        "\n",
        "# Calculate the critical t-value for a two-tailed test at 90% confidence level\n",
        "alpha = 1 - confidence_level\n",
        "critical_t_value = stats.t.ppf(1 - alpha / 2, df)\n",
        "\n",
        "# Calculate the p-value\n",
        "p_value = 2 * (1 - stats.t.cdf(abs(t_statistic), df))\n",
        "\n",
        "# Print the results\n",
        "print(f\"t-Statistic: {t_statistic:.4f}\")\n",
        "print(f\"Degrees of Freedom: {df}\")\n",
        "print(f\"Critical t-Value: {critical_t_value:.4f}\")\n",
        "print(f\"P-Value: {p_value:.4f}\")\n",
        "\n",
        "# Decision rule\n",
        "if abs(t_statistic) > critical_t_value:\n",
        "    print(\"Reject the null hypothesis: Caffeine has a significant effect on reaction time.\")\n",
        "else:\n",
        "    print(\"Fail to reject the null hypothesis: Caffeine does not have a significant effect on reaction time.\")"
      ],
      "metadata": {
        "colab": {
          "base_uri": "https://localhost:8080/"
        },
        "id": "XydPlmSFVuL6",
        "outputId": "b21fe29e-cd13-4711-8e83-5071563ed0aa"
      },
      "execution_count": 11,
      "outputs": [
        {
          "output_type": "stream",
          "name": "stdout",
          "text": [
            "t-Statistic: -5.4772\n",
            "Degrees of Freedom: 29\n",
            "Critical t-Value: 1.6991\n",
            "P-Value: 0.0000\n",
            "Reject the null hypothesis: Caffeine has a significant effect on reaction time.\n"
          ]
        }
      ]
    },
    {
      "cell_type": "code",
      "source": [],
      "metadata": {
        "id": "0G2YRI25WFVw"
      },
      "execution_count": null,
      "outputs": []
    }
  ]
}